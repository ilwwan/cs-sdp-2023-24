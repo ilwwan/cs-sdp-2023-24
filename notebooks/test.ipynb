{
 "cells": [
  {
   "cell_type": "code",
   "execution_count": 10,
   "metadata": {},
   "outputs": [],
   "source": [
    "import gurobipy as gp\n",
    "from data import Dataloader\n",
    "import numpy as np"
   ]
  },
  {
   "cell_type": "code",
   "execution_count": 2,
   "metadata": {},
   "outputs": [
    {
     "name": "stdout",
     "output_type": "stream",
     "text": [
      "Set parameter Username\n",
      "Academic license - for non-commercial use only - expires 2024-12-17\n"
     ]
    }
   ],
   "source": [
    "model = gp.Model(\"MIP model test\")"
   ]
  },
  {
   "cell_type": "code",
   "execution_count": 3,
   "metadata": {},
   "outputs": [],
   "source": [
    "data_loader = Dataloader(\"../data/dataset_4\") # Specify path to the dataset you want to load\n",
    "X, Y = data_loader.load()\n"
   ]
  },
  {
   "cell_type": "code",
   "execution_count": 4,
   "metadata": {},
   "outputs": [
    {
     "name": "stdout",
     "output_type": "stream",
     "text": [
      "(2000, 4)\n",
      "(2000, 4)\n"
     ]
    }
   ],
   "source": [
    "print(X.shape)\n",
    "print(Y.shape)"
   ]
  },
  {
   "cell_type": "code",
   "execution_count": 8,
   "metadata": {},
   "outputs": [],
   "source": [
    "n_criteria = X.shape[1]\n",
    "P_pairs = X.shape[0]\n",
    "K_clusters = 2\n",
    "L_pieces = 5\n",
    "\n",
    "M = 10\n"
   ]
  },
  {
   "cell_type": "code",
   "execution_count": 7,
   "metadata": {},
   "outputs": [],
   "source": [
    "ux_ikl = model.addVars(n_criteria, K_clusters, L_pieces+1, vtype=gp.GRB.CONTINUOUS, name=\"ux_ikl\")\n",
    "v_jk = model.addVars(P_pairs, K_clusters, vtype=gp.GRB.BINARY, name=\"v_jk\")\n",
    "sigma_plus_j = model.addVars(P_pairs, vtype=gp.GRB.CONTINUOUS, name=\"sigma_plus_j\")\n",
    "sigma_minus_j = model.addVars(P_pairs, vtype=gp.GRB.CONTINUOUS, name=\"sigma_minus_j\")"
   ]
  },
  {
   "cell_type": "code",
   "execution_count": 11,
   "metadata": {},
   "outputs": [],
   "source": [
    "max_crit = [np.max(X[:,i]) for i in range(n_criteria)]\n",
    "min_crit = [np.min(X[:,i]) for i in range(n_criteria)]\n",
    "print(max_crit, )"
   ]
  },
  {
   "cell_type": "code",
   "execution_count": null,
   "metadata": {},
   "outputs": [],
   "source": [
    "def u_ki(x, k, i):\n",
    "    x_crit_value = x[i]\n",
    "    l = math.floor(L * x_crit_value / ))\n",
    "\n",
    "def u_k(x, k):\n",
    "    return gp.quicksum([u_ki(x, k, i) for i in range(n_criteria)])"
   ]
  },
  {
   "cell_type": "code",
   "execution_count": null,
   "metadata": {},
   "outputs": [],
   "source": [
    "# Constraints\n",
    "# Non decreasing UTA functions\n",
    "for i in range(n_criteria):\n",
    "    for k in range(K_clusters):\n",
    "        for l in range(L_pieces):\n",
    "            model.addConstr(ux_ikl[i,k,l+1] >= ux_ikl[i,k,l])\n",
    "\n",
    "# Sum of UTA functions\n",
    "for k in range(K_clusters):\n",
    "    model.addConstr(gp.quicksum(ux_ikl[i,k,L] for i in range(n_criteria)) == 1)\n",
    "\n",
    "# UTA functions are 0 at 0\n",
    "for i in range(n_criteria):\n",
    "    for k in range(K_clusters):\n",
    "        model.addConstr(ux[i,k,0] == 0)\n",
    "\n",
    "# Definition of v_jk\n",
    "for j in range(P_pairs):\n",
    "    for k in range(K_clusters):\n",
    "        pass"
   ]
  }
 ],
 "metadata": {
  "kernelspec": {
   "display_name": "Python 3",
   "language": "python",
   "name": "python3"
  },
  "language_info": {
   "codemirror_mode": {
    "name": "ipython",
    "version": 3
   },
   "file_extension": ".py",
   "mimetype": "text/x-python",
   "name": "python",
   "nbconvert_exporter": "python",
   "pygments_lexer": "ipython3",
   "version": "3.10.7"
  }
 },
 "nbformat": 4,
 "nbformat_minor": 2
}
